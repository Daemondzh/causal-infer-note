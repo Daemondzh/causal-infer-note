{
 "cells": [
  {
   "cell_type": "markdown",
   "metadata": {},
   "source": [
    "## Potential outcome framework!\n",
    "Potential Outcomes: $Y_0$ and $Y_1$\n",
    "BIAS: $E[Y_0|Z=1]-E[Y_0|Z=0]$\n",
    "Randomization: $(Y_0,Y_1)\\mathpalette Z$\n",
    "*Check randomization*: if the treated are equal to the untreated in pre-treatment variables?\n",
    ">\n",
    "all causal inference techniques will somehow try to identify the assignment mechanisms of the treatments\n",
    "Unfortunately, the assignment mechanism can’t be discovered by simply looking at the data.\n",
    "You will have to use your knowledge about how the world works to argue in favor of a plausible assignment mechanism\n",
    "In causal questions, we usually can argue in both ways: that X causes Y, or that it is a third variable Z that causes both X and Y, and hence the X and Y correlation is just spurious\n",
    ">"
   ]
  }
 ],
 "metadata": {
  "language_info": {
   "name": "python"
  }
 },
 "nbformat": 4,
 "nbformat_minor": 2
}
