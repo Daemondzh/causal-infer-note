{
 "cells": [
  {
   "cell_type": "markdown",
   "metadata": {},
   "source": [
    "## Causality (in Potential outcome framework)!\n",
    "Potential Outcomes: $Y_0$ and $Y_1$ \\\n",
    "Observation: $Y=Z\\cdot Y_1+(1-Z)\\cdot Y_0$ \\\n",
    "(Averaged) Causality=ATE: $E[Y_1-Y_0]$ \\\n",
    "ATT: $E[Y_1-Y_0|Z=1]=E[Y|Z=1]-E[Y|Z=0]-BIAS$ \\\n",
    "BIAS: $E[Y_0|Z=1]-E[Y_0|Z=0]$ \\\n",
    "Randomization: $(Y_0,Y_1)\\perp Z$ \\\n",
    "*Check randomization*: if the treated are equal to the untreated in pre-treatment variables?\n",
    ">\n",
    "all causal inference techniques will somehow try to identify the assignment mechanisms of the treatments\n",
    "Unfortunately, the assignment mechanism can’t be discovered by simply looking at the data.\n",
    "You will have to use your knowledge about how the world works to argue in favor of a plausible assignment mechanism\n",
    "In causal questions, we usually can argue in both ways: that X causes Y, or that it is a third variable Z that causes both X and Y, and hence the X and Y correlation is just spurious\n",
    ">"
   ]
  },
  {
   "cell_type": "markdown",
   "metadata": {},
   "source": [
    "## What is Inference?\n",
    "Statistical Inference: Given a sample $X_1..X_n\\sim F$, how to infer distribution $F$ \\\n",
    "Point Estimation: $X_1,X_2..X_n\\to \\hat \\theta$ such that we expect a true value $\\theta\\in \\R$ \\\n",
    "\n",
    "### Causal Inference\n",
    "Sample: $(Z_1,Y_1)..(Z_n,Y_n)\\sim F$ joint probability distribution \\\n",
    "Causality: assume the existence of random variables $Y_0$ and $Y_1$, such that $(Z,Y,Y_0,Y_1)\\sim F^*$ augmented probability distribution, and satisfies **Observation**. \\\n",
    "Causal Inference: from sample to $F^*$ \\\n",
    "Estimation: $\\theta=ATE$ \\"
   ]
  }
 ],
 "metadata": {
  "language_info": {
   "name": "python"
  }
 },
 "nbformat": 4,
 "nbformat_minor": 2
}
